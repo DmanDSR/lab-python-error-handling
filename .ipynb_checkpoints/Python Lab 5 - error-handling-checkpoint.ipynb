{
 "cells": [
  {
   "cell_type": "code",
   "execution_count": 73,
   "id": "b902ba65",
   "metadata": {},
   "outputs": [],
   "source": [
    "products = [\"t-shirt\", \"mug\", \"hat\", \"book\", \"keychain\"] # list of products"
   ]
  },
  {
   "cell_type": "code",
   "execution_count": 74,
   "id": "3cb2153b",
   "metadata": {},
   "outputs": [],
   "source": [
    "inventory = { } # empty inventory dictionary"
   ]
  },
  {
   "cell_type": "code",
   "execution_count": 75,
   "id": "5ba3e419",
   "metadata": {},
   "outputs": [],
   "source": [
    "customer_orders = set() # empty set \n",
    "#type(customer_orders) #type checker"
   ]
  },
  {
   "cell_type": "code",
   "execution_count": 76,
   "id": "51a9e04f",
   "metadata": {},
   "outputs": [],
   "source": [
    "#asks for the inventory numbers\n",
    "def initialize_inventory(inp,inven):\n",
    "    \n",
    "    for product in inp:\n",
    "        loop = True\n",
    "        while loop:\n",
    "            try:\n",
    "                num = int(input(\"Please input the inventory number for \" + product + \": \" ))\n",
    "                \n",
    "                if num >= 0:   \n",
    "                    inven[product] = num\n",
    "                    loop = False\n",
    "                else:\n",
    "                    print(\"Please input a positive number, next time\\n\")\n",
    "            except ValueError:\n",
    "                print(\"Error: Invalid input, please try again\\n\")\n",
    "    return inven"
   ]
  },
  {
   "cell_type": "code",
   "execution_count": 77,
   "id": "2e003520",
   "metadata": {},
   "outputs": [],
   "source": [
    "#asks the customer for what they want to order\n",
    "def get_customer_orders(inventory):\n",
    "    loop = True\n",
    "    cuor = set()\n",
    "    while loop:\n",
    "        try:\n",
    "            num = int(input(\"\\nEnter the number of products you want to order: \"))\n",
    "            if num > 0:\n",
    "                loop = False\n",
    "            else:\n",
    "                print(\"Input is either a 0 or negative number, try again.\\n\")\n",
    "        except ValueError:\n",
    "            print(\"Error: Invalid input, please enter a valid number.\\n\")\n",
    "            \n",
    "    for i in range(num):\n",
    "        loop = True\n",
    "        while loop:\n",
    "            try:\n",
    "                name = str(input(f\"Please input product order {i + 1}: \")).lower()\n",
    "                if name in inventory and inventory[name] > 0 :\n",
    "                    cuor.add(name)\n",
    "                    loop = False\n",
    "                elif inventory[name] <= 0 and name in inventory:\n",
    "                    print(f\"Product {name} has no stock try again.\")\n",
    "                else:\n",
    "                    print(\"Please input a correct product.\\n\")\n",
    "            except ValueError:\n",
    "                print(\"Error: Invald input try again.\\n\")\n",
    "            except NameError:\n",
    "                print(\"Error: Name is not in inventory, try again.\\n\")\n",
    "            except KeyError:\n",
    "                print(\"Error: Name is not in inventory, try again.\\n\")\n",
    "                \n",
    "    return cuor"
   ]
  },
  {
   "cell_type": "code",
   "execution_count": 78,
   "id": "4a356a82",
   "metadata": {},
   "outputs": [],
   "source": [
    "#calculates order stats\n",
    "def calculate_order_statistics(customer_orders, products):\n",
    "    tpo = len(customer_orders)\n",
    "    popo = (len(customer_orders)/len(products))*100 \n",
    "    \n",
    "    return [tpo, popo]"
   ]
  },
  {
   "cell_type": "code",
   "execution_count": 79,
   "id": "224363bc",
   "metadata": {},
   "outputs": [],
   "source": [
    "#prints order stats\n",
    "def print_order_statistics(order_statistics):\n",
    "    print(\"\\nOrder Statistics\")\n",
    "    print(\"Total Products Ordered: \", order_statistics[0])\n",
    "    print(\"Percentage of Products Ordered:\", order_statistics[1], \"\\n\")"
   ]
  },
  {
   "cell_type": "code",
   "execution_count": 84,
   "id": "5c62a37e",
   "metadata": {},
   "outputs": [],
   "source": [
    "#updates inventory\n",
    "def update_inventory(c_o, inv):\n",
    "    key = 0\n",
    "    while key <len(c_o):\n",
    "            name = list(c_o)[key]\n",
    "            inv[name] = int(inv[name]) - 1\n",
    "            \n",
    "            if inv[name] == 0: inv.pop(name)\n",
    "            key+=1\n",
    "    return c_o,inv"
   ]
  },
  {
   "cell_type": "code",
   "execution_count": 81,
   "id": "da5620d6",
   "metadata": {},
   "outputs": [],
   "source": [
    "#prints the updated inventory\n",
    "def print_updated_inventory(inv):\n",
    "    \n",
    "    [print(\"The inventory for \" + loop + \" is:\", inv[loop]) for loop in inv]  \n",
    "        "
   ]
  },
  {
   "cell_type": "code",
   "execution_count": 82,
   "id": "1f63cfc8",
   "metadata": {},
   "outputs": [],
   "source": [
    "def calculate_total_price (customer_orders):\n",
    "    value = 0\n",
    "    print(\" \")\n",
    "    \n",
    "    for i in range(len(customer_orders)):\n",
    "        loop = True\n",
    "        while loop:\n",
    "            try:\n",
    "                val = float(input(f\"Enter the price for {list(customer_orders)[i]}: \"))\n",
    "                if val > 0:\n",
    "                        value = value + val\n",
    "                        loop = False\n",
    "                else:\n",
    "                    print(\"Value is negative or zero try again.\\n\")\n",
    "            except ValueError:\n",
    "                print(\"Error: wrong type of input, try again.\\n\")\n",
    "        \n",
    "    print(f\"\\nThe Total price is {round(float(value), 2)}\")\n",
    "\n",
    "#calculate_total_price(customer_orders)"
   ]
  },
  {
   "cell_type": "code",
   "execution_count": 83,
   "id": "8088ba9a",
   "metadata": {},
   "outputs": [
    {
     "name": "stdout",
     "output_type": "stream",
     "text": [
      "Please input the inventory number for t-shirt: -1\n",
      "Please input a positive number, next time\n",
      "\n",
      "Please input the inventory number for t-shirt: jojoj\n",
      "Error: Invalid input, please try again\n",
      "\n",
      "Please input the inventory number for t-shirt: 10\n",
      "Please input the inventory number for mug: 1\n",
      "Please input the inventory number for hat: 1\n",
      "Please input the inventory number for book: 0\n",
      "Please input the inventory number for keychain: 10\n",
      "\n",
      "Enter the number of products you want to order: lk\n",
      "Error: Invalid input, please enter a valid number.\n",
      "\n",
      "\n",
      "Enter the number of products you want to order: 0\n",
      "Input is either a 0 or negative number, try again.\n",
      "\n",
      "\n",
      "Enter the number of products you want to order: -4\n",
      "Input is either a 0 or negative number, try again.\n",
      "\n",
      "\n",
      "Enter the number of products you want to order: 3\n",
      "Please input product order 1: MUG\n",
      "Please input product order 2: HAJ\n",
      "Error: Name is not in inventory, try again.\n",
      "\n",
      "Please input product order 2: 12\n",
      "Error: Name is not in inventory, try again.\n",
      "\n",
      "Please input product order 2: hat\n",
      "Please input product order 3: BOOK\n",
      "Product book has no stock try again.\n",
      "Please input product order 3: keychain\n",
      "\n",
      "Order Statistics\n",
      "Total Products Ordered:  3\n",
      "Percentage of Products Ordered: 60.0 \n",
      "\n",
      "{'hat', 'mug', 'keychain'}\n",
      "hat\n",
      "1\n",
      "mug\n",
      "1\n",
      "keychain\n",
      "10\n",
      "The inventory for t-shirt is: 10\n",
      "The inventory for book is: 0\n",
      "The inventory for keychain is: 9\n",
      " \n",
      "Enter the price for hat: nk\n",
      "Error: wrong type of input, try again.\n",
      "\n",
      "Enter the price for hat: -1\n",
      "Value is negative or zero try again.\n",
      "\n",
      "Enter the price for hat: 0\n",
      "Value is negative or zero try again.\n",
      "\n",
      "Enter the price for hat: 12\n",
      "Enter the price for mug: 13\n",
      "Enter the price for keychain: 45\n",
      "\n",
      "The Total price is 70.0\n"
     ]
    }
   ],
   "source": [
    "inventory = initialize_inventory(products, inventory) # Product inventory input\n",
    "\n",
    "customer_orders = get_customer_orders(inventory) # What the customer wants to order\n",
    "\n",
    "# Calculates order stats\n",
    "order_statistics = calculate_order_statistics(customer_orders, products) \n",
    "\n",
    "print_order_statistics(order_statistics) # Prints stats\n",
    "\n",
    "update_inventory(customer_orders, inventory) # Updates the product inventory\n",
    "\n",
    "print_updated_inventory(inventory) # Prints the updated inventory   \n",
    "\n",
    "calculate_total_price(customer_orders)"
   ]
  }
 ],
 "metadata": {
  "kernelspec": {
   "display_name": "Python 3 (ipykernel)",
   "language": "python",
   "name": "python3"
  },
  "language_info": {
   "codemirror_mode": {
    "name": "ipython",
    "version": 3
   },
   "file_extension": ".py",
   "mimetype": "text/x-python",
   "name": "python",
   "nbconvert_exporter": "python",
   "pygments_lexer": "ipython3",
   "version": "3.11.7"
  }
 },
 "nbformat": 4,
 "nbformat_minor": 5
}
