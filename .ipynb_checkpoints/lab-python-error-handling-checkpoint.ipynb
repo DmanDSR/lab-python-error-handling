{
 "cells": [
  {
   "cell_type": "markdown",
   "id": "25d7736c-ba17-4aff-b6bb-66eba20fbf4e",
   "metadata": {},
   "source": [
    "# Lab | Error Handling"
   ]
  },
  {
   "cell_type": "markdown",
   "id": "bc99b386-7508-47a0-bcdb-d969deaf6c8b",
   "metadata": {},
   "source": [
    "## Exercise: Error Handling for Managing Customer Orders\n",
    "\n",
    "The implementation of your code for managing customer orders assumes that the user will always enter a valid input. \n",
    "\n",
    "For example, we could modify the `initialize_inventory` function to include error handling.\n",
    "   - If the user enters an invalid quantity (e.g., a negative value or a non-numeric value), display an error message and ask them to re-enter the quantity for that product.\n",
    "   - Use a try-except block to handle the error and continue prompting the user until a valid quantity is entered.\n",
    "\n",
    "```python\n",
    "# Step 1: Define the function for initializing the inventory with error handling\n",
    "def initialize_inventory(products):\n",
    "    inventory = {}\n",
    "    for product in products:\n",
    "        valid_quantity = False\n",
    "        while not valid_quantity:\n",
    "            try:\n",
    "                quantity = int(input(f\"Enter the quantity of {product}s available: \"))\n",
    "                if quantity < 0:\n",
    "                    raise ValueError(\"Invalid quantity! Please enter a non-negative value.\")\n",
    "                valid_quantity = True\n",
    "            except ValueError as error:\n",
    "                print(f\"Error: {error}\")\n",
    "        inventory[product] = quantity\n",
    "    return inventory\n",
    "\n",
    "# Or, in another way:\n",
    "\n",
    "def initialize_inventory(products):\n",
    "    inventory = {}\n",
    "    for product in products:\n",
    "        valid_input = False\n",
    "        while not valid_input:\n",
    "            try:\n",
    "                quantity = int(input(f\"Enter the quantity of {product}s available: \"))\n",
    "                if quantity >= 0:\n",
    "                    inventory[product] = quantity\n",
    "                    valid_input = True\n",
    "                else:\n",
    "                    print(\"Quantity cannot be negative. Please enter a valid quantity.\")\n",
    "            except ValueError:\n",
    "                print(\"Invalid input. Please enter a valid quantity.\")\n",
    "    return inventory\n",
    "```\n",
    "\n",
    "Let's enhance your code by implementing error handling to handle invalid inputs.\n",
    "\n",
    "Follow the steps below to complete the exercise:\n",
    "\n",
    "2. Modify the `calculate_total_price` function to include error handling.\n",
    "   - If the user enters an invalid price (e.g., a negative value or a non-numeric value), display an error message and ask them to re-enter the price for that product.\n",
    "   - Use a try-except block to handle the error and continue prompting the user until a valid price is entered.\n",
    "\n",
    "3. Modify the `get_customer_orders` function to include error handling.\n",
    "   - If the user enters an invalid number of orders (e.g., a negative value or a non-numeric value), display an error message and ask them to re-enter the number of orders.\n",
    "   - If the user enters an invalid product name (e.g., a product name that is not in the inventory), or that doesn't have stock available, display an error message and ask them to re-enter the product name. *Hint: you will need to pass inventory as a parameter*\n",
    "   - Use a try-except block to handle the error and continue prompting the user until a valid product name is entered.\n",
    "\n",
    "4. Test your code by running the program and deliberately entering invalid quantities and product names. Make sure the error handling mechanism works as expected.\n"
   ]
  },
  {
   "cell_type": "code",
   "execution_count": 12,
   "id": "f7f26af0",
   "metadata": {},
   "outputs": [],
   "source": [
    "products = [\"t-shirt\", \"mug\", \"hat\", \"book\", \"keychain\"] # list of products"
   ]
  },
  {
   "cell_type": "code",
   "execution_count": 13,
   "id": "5125a684",
   "metadata": {},
   "outputs": [],
   "source": [
    "inventory = { } # empty inventory dictionary"
   ]
  },
  {
   "cell_type": "code",
   "execution_count": 14,
   "id": "b8521a85",
   "metadata": {},
   "outputs": [],
   "source": [
    "customer_orders = set() # empty set \n",
    "#type(customer_orders) #type checker"
   ]
  },
  {
   "cell_type": "code",
   "execution_count": 15,
   "id": "4b4124f1",
   "metadata": {},
   "outputs": [],
   "source": [
    "#asks for the inventory numbers\n",
    "def initialize_inventory(inp,inven):\n",
    "    \n",
    "    for product in inp:\n",
    "        loop = True\n",
    "        while loop:\n",
    "            try:\n",
    "                num = int(input(\"Please input the inventory number for \" + product + \": \" ))\n",
    "                \n",
    "                if num >= 0:   \n",
    "                    inven[product] = num\n",
    "                    loop = False\n",
    "                else:\n",
    "                    print(\"Please input a positive number, next time\\n\")\n",
    "            except ValueError:\n",
    "                print(\"Error: Invalid input, please try again\\n\")\n",
    "    return inven"
   ]
  },
  {
   "cell_type": "code",
   "execution_count": 16,
   "id": "cf796b33",
   "metadata": {},
   "outputs": [],
   "source": [
    "#asks the customer for what they want to order\n",
    "def get_customer_orders(inventory):\n",
    "    loop = True\n",
    "    cuor = set()\n",
    "    while loop:\n",
    "        try:\n",
    "            num = int(input(\"\\nEnter the number of products you want to order: \"))\n",
    "            if num > 0:\n",
    "                loop = False\n",
    "            else:\n",
    "                print(\"Input is either a 0 or negative number, try again.\\n\")\n",
    "        except ValueError:\n",
    "            print(\"Error: Invalid input, please enter a valid number.\\n\")\n",
    "            \n",
    "    for i in range(num):\n",
    "        loop = True\n",
    "        while loop:\n",
    "            try:\n",
    "                name = str(input(f\"Please input product order {i + 1}: \")).lower()\n",
    "                if name in inventory and inventory[name] > 0 :\n",
    "                    cuor.add(name)\n",
    "                    loop = False\n",
    "                elif inventory[name] <= 0 and name in inventory:\n",
    "                    print(f\"Product {name} has no stock try again.\")\n",
    "                else:\n",
    "                    print(\"Please input a correct product.\\n\")\n",
    "            except ValueError:\n",
    "                print(\"Error: Invald input try again.\\n\")\n",
    "            except NameError:\n",
    "                print(\"Error: Name is not in inventory, try again.\\n\")\n",
    "            except KeyError:\n",
    "                print(\"Error: Name is not in inventory, try again.\\n\")\n",
    "                \n",
    "    return cuor"
   ]
  },
  {
   "cell_type": "code",
   "execution_count": 17,
   "id": "fcc92e41",
   "metadata": {},
   "outputs": [],
   "source": [
    "#calculates order stats\n",
    "def calculate_order_statistics(customer_orders, products):\n",
    "    tpo = len(customer_orders)\n",
    "    popo = (len(customer_orders)/len(products))*100 \n",
    "    \n",
    "    return [tpo, popo]"
   ]
  },
  {
   "cell_type": "code",
   "execution_count": 18,
   "id": "24932c98",
   "metadata": {},
   "outputs": [],
   "source": [
    "#prints order stats\n",
    "def print_order_statistics(order_statistics):\n",
    "    print(\"\\nOrder Statistics\")\n",
    "    print(\"Total Products Ordered: \", order_statistics[0])\n",
    "    print(\"Percentage of Products Ordered:\", order_statistics[1], \"\\n\")"
   ]
  },
  {
   "cell_type": "code",
   "execution_count": 19,
   "id": "b9264b47",
   "metadata": {},
   "outputs": [],
   "source": [
    "#updates inventory\n",
    "def update_inventory(c_o, inv):\n",
    "    key = 0\n",
    "    while key <len(c_o):\n",
    "            name = list(c_o)[key]\n",
    "            inv[name] = int(inv[name]) - 1\n",
    "            \n",
    "            if inv[name] == 0: inv.pop(name)\n",
    "            key+=1\n",
    "    return c_o,inv"
   ]
  },
  {
   "cell_type": "code",
   "execution_count": 20,
   "id": "b6cf11e2",
   "metadata": {},
   "outputs": [],
   "source": [
    "#prints the updated inventory\n",
    "def print_updated_inventory(inv):\n",
    "    \n",
    "    [print(\"The inventory for \" + loop + \" is:\", inv[loop]) for loop in inv]  \n",
    "        "
   ]
  },
  {
   "cell_type": "code",
   "execution_count": 21,
   "id": "56357e9d",
   "metadata": {},
   "outputs": [],
   "source": [
    "def calculate_total_price (customer_orders):\n",
    "    value = 0\n",
    "    print(\" \")\n",
    "    \n",
    "    for i in range(len(customer_orders)):\n",
    "        loop = True\n",
    "        while loop:\n",
    "            try:\n",
    "                val = float(input(f\"Enter the price for {list(customer_orders)[i]}: \"))\n",
    "                if val > 0:\n",
    "                        value = value + val\n",
    "                        loop = False\n",
    "                else:\n",
    "                    print(\"Value is negative or zero try again.\\n\")\n",
    "            except ValueError:\n",
    "                print(\"Error: wrong type of input, try again.\\n\")\n",
    "        \n",
    "    print(f\"\\nThe Total price is {round(float(value), 2)}\")\n",
    "\n",
    "#calculate_total_price(customer_orders)"
   ]
  },
  {
   "cell_type": "code",
   "execution_count": 22,
   "id": "d0e1ad91",
   "metadata": {},
   "outputs": [
    {
     "name": "stdout",
     "output_type": "stream",
     "text": [
      "Please input the inventory number for t-shirt: 0\n",
      "Please input the inventory number for mug: dgf\n",
      "Error: Invalid input, please try again\n",
      "\n",
      "Please input the inventory number for mug: -1\n",
      "Please input a positive number, next time\n",
      "\n",
      "Please input the inventory number for mug: 1\n",
      "Please input the inventory number for hat: 1\n",
      "Please input the inventory number for book: 0\n",
      "Please input the inventory number for keychain: 10\n",
      "\n",
      "Enter the number of products you want to order: vbv\n",
      "Error: Invalid input, please enter a valid number.\n",
      "\n",
      "\n",
      "Enter the number of products you want to order: 3\n",
      "Please input product order 1: MUG\n",
      "Please input product order 2: lals\n",
      "Error: Name is not in inventory, try again.\n",
      "\n",
      "Please input product order 2: 45\n",
      "Error: Name is not in inventory, try again.\n",
      "\n",
      "Please input product order 2: t-shirt\n",
      "Product t-shirt has no stock try again.\n",
      "Please input product order 2: book\n",
      "Product book has no stock try again.\n",
      "Please input product order 2: hat\n",
      "Please input product order 3: keychain\n",
      "\n",
      "Order Statistics\n",
      "Total Products Ordered:  3\n",
      "Percentage of Products Ordered: 60.0 \n",
      "\n"
     ]
    },
    {
     "ename": "TypeError",
     "evalue": "'builtin_function_or_method' object is not subscriptable",
     "output_type": "error",
     "traceback": [
      "\u001b[1;31m---------------------------------------------------------------------------\u001b[0m",
      "\u001b[1;31mTypeError\u001b[0m                                 Traceback (most recent call last)",
      "Cell \u001b[1;32mIn[22], line 12\u001b[0m\n\u001b[0;32m      8\u001b[0m print_order_statistics(order_statistics) \u001b[38;5;66;03m# Prints stats\u001b[39;00m\n\u001b[0;32m     10\u001b[0m update_inventory(customer_orders, inventory) \u001b[38;5;66;03m# Updates the product inventory\u001b[39;00m\n\u001b[1;32m---> 12\u001b[0m print_updated_inventory(inventory) \u001b[38;5;66;03m# Prints the updated inventory   \u001b[39;00m\n\u001b[0;32m     14\u001b[0m calculate_total_price(customer_orders)\n",
      "Cell \u001b[1;32mIn[20], line 4\u001b[0m, in \u001b[0;36mprint_updated_inventory\u001b[1;34m(inv)\u001b[0m\n\u001b[0;32m      2\u001b[0m \u001b[38;5;28;01mdef\u001b[39;00m \u001b[38;5;21mprint_updated_inventory\u001b[39m(inv):\n\u001b[1;32m----> 4\u001b[0m     [\u001b[38;5;28mprint\u001b[39m(\u001b[38;5;124m\"\u001b[39m\u001b[38;5;124mThe inventory for \u001b[39m\u001b[38;5;124m\"\u001b[39m \u001b[38;5;241m+\u001b[39m loop \u001b[38;5;241m+\u001b[39m \u001b[38;5;124m\"\u001b[39m\u001b[38;5;124m is:\u001b[39m\u001b[38;5;124m\"\u001b[39m, inv[loop]) \u001b[38;5;28;01mif\u001b[39;00m inv[loop] \u001b[38;5;241m!=\u001b[39m \u001b[38;5;241m0\u001b[39m \u001b[38;5;28;01melse\u001b[39;00m inv\u001b[38;5;241m.\u001b[39mpop[loop] \u001b[38;5;28;01mfor\u001b[39;00m loop \u001b[38;5;129;01min\u001b[39;00m inv ]\n",
      "Cell \u001b[1;32mIn[20], line 4\u001b[0m, in \u001b[0;36m<listcomp>\u001b[1;34m(.0)\u001b[0m\n\u001b[0;32m      2\u001b[0m \u001b[38;5;28;01mdef\u001b[39;00m \u001b[38;5;21mprint_updated_inventory\u001b[39m(inv):\n\u001b[1;32m----> 4\u001b[0m     [\u001b[38;5;28mprint\u001b[39m(\u001b[38;5;124m\"\u001b[39m\u001b[38;5;124mThe inventory for \u001b[39m\u001b[38;5;124m\"\u001b[39m \u001b[38;5;241m+\u001b[39m loop \u001b[38;5;241m+\u001b[39m \u001b[38;5;124m\"\u001b[39m\u001b[38;5;124m is:\u001b[39m\u001b[38;5;124m\"\u001b[39m, inv[loop]) \u001b[38;5;28;01mif\u001b[39;00m inv[loop] \u001b[38;5;241m!=\u001b[39m \u001b[38;5;241m0\u001b[39m \u001b[38;5;28;01melse\u001b[39;00m inv\u001b[38;5;241m.\u001b[39mpop[loop] \u001b[38;5;28;01mfor\u001b[39;00m loop \u001b[38;5;129;01min\u001b[39;00m inv ]\n",
      "\u001b[1;31mTypeError\u001b[0m: 'builtin_function_or_method' object is not subscriptable"
     ]
    }
   ],
   "source": [
    "inventory = initialize_inventory(products, inventory) # Product inventory input\n",
    "\n",
    "customer_orders = get_customer_orders(inventory) # What the customer wants to order\n",
    "\n",
    "# Calculates order stats\n",
    "order_statistics = calculate_order_statistics(customer_orders, products) \n",
    "\n",
    "print_order_statistics(order_statistics) # Prints stats\n",
    "\n",
    "update_inventory(customer_orders, inventory) # Updates the product inventory\n",
    "\n",
    "print_updated_inventory(inventory) # Prints the updated inventory   \n",
    "\n",
    "calculate_total_price(customer_orders)"
   ]
  }
 ],
 "metadata": {
  "kernelspec": {
   "display_name": "Python 3 (ipykernel)",
   "language": "python",
   "name": "python3"
  },
  "language_info": {
   "codemirror_mode": {
    "name": "ipython",
    "version": 3
   },
   "file_extension": ".py",
   "mimetype": "text/x-python",
   "name": "python",
   "nbconvert_exporter": "python",
   "pygments_lexer": "ipython3",
   "version": "3.11.7"
  }
 },
 "nbformat": 4,
 "nbformat_minor": 5
}
